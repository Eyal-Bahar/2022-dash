{
 "cells": [
  {
   "cell_type": "markdown",
   "metadata": {},
   "source": [
    "## Dash Demo & Tutorial\n",
    "\n",
    "### 0.Installation: \n",
    "\n",
    "pip install dash\n",
    "\n",
    "pip install jupyter-dash\n",
    "\n",
    "pip install pandas\n",
    "\n"
   ]
  },
  {
   "cell_type": "markdown",
   "metadata": {},
   "source": [
    "### 1. Quickstart\n",
    "#### Run main to see the app\n",
    "See /dash_quickstartup/app.py\n",
    "\n",
    "#### Some important notes:\n",
    "* The layout    ---  is composed of a tree of \"components\" such as html.Div and dcc.Graph.\n",
    "* dash.html     ---  The Dash HTML Components module (dash.html) has a component for every HTML tag. The html.H1(children='Hello Dash') component generates a \\<h1>Hello Dash\\</h1> HTML element in your application.\n",
    "* children      ---  The children property is special. By convention, it's always the first attribute which means that you can omit it: html.H1(children='Hello Dash') is the same as html.H1('Hello Dash'). It can contain a string, a number, a single component, or a list of components.\n",
    "* \"Hot reloading\" ---  The Dash application is hot reloaded when you change the code.\n",
    "\n",
    "Note: \n",
    "*  Not all components are pure HTML. The Dash Core Components module (dash.dcc) contains higher-level components that are interactive and are generated with JavaScript, HTML, and CSS through the React.js library.\n",
    "* The fonts in your application will look a little bit different than what is displayed here. This application is using a custom CSS stylesheet and Dash Enterprise Design Kit to modify the default styles of the elements. You can learn more about custom CSS in the CSS tutorial (https://dash.plotly.com/external-resources)\n",
    "\n",
    "\n",
    "#### See app_more_style to get more taste for options"
   ]
  },
  {
   "cell_type": "markdown",
   "metadata": {},
   "source": [
    "\n",
    "### Resources:\n",
    "\n",
    "https://dash.plotly.com/installation"
   ]
  }
 ],
 "metadata": {
  "kernelspec": {
   "display_name": "Python 3.9.8 ('.venv': venv)",
   "language": "python",
   "name": "python3"
  },
  "language_info": {
   "name": "python",
   "version": "3.9.8"
  },
  "orig_nbformat": 4,
  "vscode": {
   "interpreter": {
    "hash": "a32830f6d11709bb62b1ad45aa28e2a43166e6c4061423d49a391729da8ca00c"
   }
  }
 },
 "nbformat": 4,
 "nbformat_minor": 2
}
